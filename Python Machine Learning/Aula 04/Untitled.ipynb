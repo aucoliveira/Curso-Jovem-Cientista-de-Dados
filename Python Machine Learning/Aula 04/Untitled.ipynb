{
 "cells": [
  {
   "cell_type": "code",
   "execution_count": 3,
   "id": "romantic-edinburgh",
   "metadata": {},
   "outputs": [
    {
     "name": "stdout",
     "output_type": "stream",
     "text": [
      "Minha terra tem palmeiras\n",
      "Onde canta o Sabiá\n",
      "AS aves, que aqui gorjeiam,\n",
      "Não gorjeiam como lá.\n"
     ]
    }
   ],
   "source": [
    "arq = open('poesia1.txt')\n",
    "texto = arq.read()\n",
    "print(texto)\n",
    "arq.close()"
   ]
  },
  {
   "cell_type": "code",
   "execution_count": 7,
   "id": "centered-vietnam",
   "metadata": {},
   "outputs": [
    {
     "name": "stdout",
     "output_type": "stream",
     "text": [
      "Linha 1:  Minha terra tem palmeiras\n",
      "\n",
      "Linha 2:  Onde canta o Sabiá\n",
      "\n"
     ]
    }
   ],
   "source": [
    "arq = open('poesia1.txt')\n",
    "linha1 = arq.readline()\n",
    "linha2 = arq.readline()\n",
    "\n",
    "print('Linha 1: ',linha1)\n",
    "print('Linha 2: ',linha2)\n",
    "arq.close()"
   ]
  },
  {
   "cell_type": "code",
   "execution_count": 12,
   "id": "according-gabriel",
   "metadata": {},
   "outputs": [
    {
     "name": "stdout",
     "output_type": "stream",
     "text": [
      "Minha\n",
      "terra\n",
      "11\n"
     ]
    }
   ],
   "source": [
    "arq = open('poesia1.txt')\n",
    "texto1 = arq.read(5)\n",
    "arq.read(1)\n",
    "texto2 = arq.read(5)\n",
    "print(texto1)\n",
    "print(texto2)\n",
    "print(arq.tell())\n",
    "arq.close()"
   ]
  },
  {
   "cell_type": "code",
   "execution_count": 14,
   "id": "assured-chester",
   "metadata": {},
   "outputs": [],
   "source": [
    "arq_escrita = open('escrita.txt','w', encoding='utf-8')\n",
    "arq_escrita.write('Minha terra tem palmeiras\\n')\n",
    "arq_escrita.write('Onde canta o sabiá')\n",
    "\n",
    "arq_escrita.close()"
   ]
  },
  {
   "cell_type": "code",
   "execution_count": 15,
   "id": "assured-missouri",
   "metadata": {},
   "outputs": [],
   "source": [
    "arquivo = open('restos.txt', 'w')\n",
    "arquivo.write('0123456789')\n",
    "arquivo.seek(0)\n",
    "arquivo.write('abcd')\n",
    "arquivo.close()"
   ]
  },
  {
   "cell_type": "code",
   "execution_count": null,
   "id": "dirty-giving",
   "metadata": {},
   "outputs": [],
   "source": []
  }
 ],
 "metadata": {
  "kernelspec": {
   "display_name": "Python 3.9.5 64-bit",
   "language": "python",
   "name": "python395jvsc74a57bd0916dbcbb3f70747c44a77c7bcd40155683ae19c65e1c03b4aa3499c5328201f1"
  },
  "language_info": {
   "codemirror_mode": {
    "name": "ipython",
    "version": 3
   },
   "file_extension": ".py",
   "mimetype": "text/x-python",
   "name": "python",
   "nbconvert_exporter": "python",
   "pygments_lexer": "ipython3",
   "version": "3.9.5"
  }
 },
 "nbformat": 4,
 "nbformat_minor": 5
}
