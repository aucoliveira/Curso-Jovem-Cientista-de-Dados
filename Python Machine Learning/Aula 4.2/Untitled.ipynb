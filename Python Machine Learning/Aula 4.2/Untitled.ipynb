{
 "cells": [
  {
   "cell_type": "code",
   "execution_count": 1,
   "id": "broken-beauty",
   "metadata": {},
   "outputs": [
    {
     "name": "stdout",
     "output_type": "stream",
     "text": [
      "<_csv.reader object at 0x7f2c084b0270>\n",
      "['nome', 'departamento', 'mês de aniversario']\n",
      "['Pedro Lima', 'RH', 'Novembro']\n",
      "['Gabriela Silva', 'TI', 'Março']\n"
     ]
    }
   ],
   "source": [
    "import csv\n",
    "\n",
    "with open('aniversarios_funcionarios.txt', encoding='utf8') as arquivo_csv:\n",
    "    leitor_csv = csv.reader(arquivo_csv, delimiter=',')\n",
    "    print(leitor_csv)\n",
    "    for linha in leitor_csv:\n",
    "        print(linha)"
   ]
  },
  {
   "cell_type": "code",
   "execution_count": 3,
   "id": "sporting-refund",
   "metadata": {},
   "outputs": [
    {
     "name": "stdout",
     "output_type": "stream",
     "text": [
      "<class 'csv.DictReader'>\n",
      "{'nome': 'Pedro Lima', 'departamento': 'RH', 'mês de aniversario': 'Novembro'}\n",
      "{'nome': 'Gabriela Silva', 'departamento': 'TI', 'mês de aniversario': 'Março'}\n"
     ]
    }
   ],
   "source": [
    "with open('aniversarios_funcionarios.txt', encoding='utf8') as arquivo_csv:\n",
    "    leitor_csv = csv.DictReader(arquivo_csv, delimiter=',')\n",
    "    print(type(leitor_csv))\n",
    "    for linha in leitor_csv:\n",
    "        print(linha)"
   ]
  },
  {
   "cell_type": "code",
   "execution_count": 4,
   "id": "pharmaceutical-bradley",
   "metadata": {},
   "outputs": [],
   "source": [
    "with open('aniversarios_funcionarios_novo.csv', encoding='utf8', mode='w', newline='') as arquivo_csv:\n",
    "    escritor_csv = csv.writer(arquivo_csv, delimiter=';')\n",
    "    \n",
    "    escritor_csv.writerow(['nome', 'departamento', 'mês de aniversario'])\n",
    "    escritor_csv.writerow(['Pedro Lima', 'RH','Novembro'])\n",
    "    escritor_csv.writerow(['Gabriela Silva', 'TI','Março'])"
   ]
  },
  {
   "cell_type": "code",
   "execution_count": 5,
   "id": "accepting-operations",
   "metadata": {},
   "outputs": [],
   "source": [
    "with open('aniversarios_funcionarios_novo_dict.csv',encoding='utf8',mode='w',newline='') as arquivo_csv:\n",
    "    fieldnames = ['nome', 'departamento', 'mês de aniversário']\n",
    "    escritor_csv = csv.DictWriter(arquivo_csv, delimiter=';',fieldnames=fieldnames)\n",
    "    \n",
    "    escritor_csv.writeheader()\n",
    "    escritor_csv.writerow({'nome': 'Pedro Lima', 'departamento': 'RH', 'mês de aniversário': 'Novembro'})\n",
    "    escritor_csv.writerow({'nome': 'Gabriela Silva', 'departamento': 'TI', 'mês de aniversário': 'Março'})\n",
    "    escritor_csv.writerow({'mês de aniversário': 'Agosto', 'nome': 'Marcelo Oliveira'})"
   ]
  },
  {
   "cell_type": "code",
   "execution_count": 6,
   "id": "wanted-effectiveness",
   "metadata": {},
   "outputs": [
    {
     "ename": "IndentationError",
     "evalue": "unexpected indent (<ipython-input-6-e7e7e78aedab>, line 3)",
     "output_type": "error",
     "traceback": [
      "\u001b[0;36m  File \u001b[0;32m\"<ipython-input-6-e7e7e78aedab>\"\u001b[0;36m, line \u001b[0;32m3\u001b[0m\n\u001b[0;31m    arquivo_json = open('exemplo_json.txt',encoding='utf8')\u001b[0m\n\u001b[0m    ^\u001b[0m\n\u001b[0;31mIndentationError\u001b[0m\u001b[0;31m:\u001b[0m unexpected indent\n"
     ]
    }
   ],
   "source": [
    "import json\n",
    "\n",
    " arquivo_json = open('exemplo_json.txt',encoding='utf8')\n",
    "\n",
    " pessoa = json.load(arquivo_json)\n",
    "\n",
    " arquivo_json.close()\n",
    " \n",
    " print(type(pessoa)) # <class 'dict'>\n",
    " \n",
    " print(pessoa) # {'primeiro_nome': 'João', 'sobrenome': 'Silva', 'passatempos': ['correr', 'nadar','jogar'],'idade':35,'fumante': False, 'possui_filhos': True, 'possui_carro': None, 'filhos': [{'primeiro_nome': 'Aline',\n",
    "'idade':6},{'primeiro_nome': 'Enzo', 'idade': 8}]}\n",
    "    \n",
    "json.dumps(pessoa) # '{\"primeiro_nome\": \"Jo\\\\u00e3o\", \"sobrenome\": \"Silva\", \"passatempos\": [\"correr\", \"nadar\",\"jogar\"],\n",
    "\"idade\": 35, \"fumante\": false, \"possui_filhos\": true, \"possui_carro\": null, \"filhos\":\n",
    "[{\"primeiro_nome\":\"Aline\", \"idade\": 6}, {\"primeiro_nome\": \"Enzo\", \"idade\": 8}]}'\n",
    "\n",
    " json.dumps(pessoa,ensure_ascii=False) # '{\"primeiro_nome\": \"João\", \"sobrenome\": \"Silva\", \"passatempos\": [\"correr\",\n",
    "\"nadar\",\"jogar\"], \"idade\": 35, \"fumante\": false, \"possui_filhos\": true,\n",
    "\"possui_carro\": null,\"filhos\": [{\"primeiro_nome\": \"Aline\", \"idade\": 6},\n",
    "{\"primeiro_nome\": \"Enzo\", \"idade\": 8}]}'"
   ]
  },
  {
   "cell_type": "code",
   "execution_count": null,
   "id": "starting-being",
   "metadata": {},
   "outputs": [],
   "source": []
  }
 ],
 "metadata": {
  "kernelspec": {
   "display_name": "Python 3.9.5 64-bit",
   "language": "python",
   "name": "python395jvsc74a57bd0916dbcbb3f70747c44a77c7bcd40155683ae19c65e1c03b4aa3499c5328201f1"
  },
  "language_info": {
   "codemirror_mode": {
    "name": "ipython",
    "version": 3
   },
   "file_extension": ".py",
   "mimetype": "text/x-python",
   "name": "python",
   "nbconvert_exporter": "python",
   "pygments_lexer": "ipython3",
   "version": "3.9.5"
  }
 },
 "nbformat": 4,
 "nbformat_minor": 5
}
