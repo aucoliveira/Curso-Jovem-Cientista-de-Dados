{
 "cells": [
  {
   "cell_type": "markdown",
   "metadata": {},
   "source": [
    "Etapa 1\n",
    "Suponha a seguinte situação: você conseguiu um emprego no Instagram como cientista de dados. A sua chefe pediu que você analisasse as visualizações diárias de stories da última semana para uma lista de pessoas. O intuito é atualizar o algoritmo de sugestão do aplicativo para promover as pessoas que mais tiveram visualização nos stories. Seguem os dados abaixo:\n",
    "\n",
    "visualizacao_stories = [\n",
    "    [187, 120, 88, 70, 130, 168, 213],\n",
    "    [0, 0, 42, 0, 0, 55, 77],\n",
    "    [91, 0, 61, 0, 71, 121, 271],\n",
    "    [0, 0, 0, 0, 187, 0, 0],\n",
    "    [42, 23, 34, 0, 39, 29, 36]\n",
    "]\n",
    "pessoas = ['Raquel', 'Lucas', 'Daniel', 'Natalia', 'Anderson']\n",
    "dias_semana = ['Domingo', 'Segunda', 'Terça', 'Quarta', 'Quinta', 'Sexta', 'Sábado']\n",
    "Os dados estão organizados da seguinte forma: a primeira linha se refere aos stories da Raquel; a segunda, aos do Lucas; e assim por diante. Com relação às colunas, a primeira coluna são os stories do Domingo, em seguida, os stories da Segunda e assim por diante até a última coluna, que se refere ao Sábado.\n",
    "\n",
    "Sabendo disso, a sua chefe espera que você retorne algumas informações para ela até o fim do dia. Qual a média de visualizações por dia de todas essas pessoas? Qual o dia que teve mais visualizações de stories somadas? Quem foi que teve o maior número de visualizações na última semana?\n",
    "\n",
    "Para esta primeira etapa da oficina, você deve responder a essas perguntas com base nos seus estudos. Caso tenha dúvidas, retorne ao conteúdo da aula e fique à vontade para pesquisar."
   ]
  },
  {
   "cell_type": "code",
   "execution_count": 2,
   "metadata": {},
   "outputs": [
    {
     "name": "stdout",
     "output_type": "stream",
     "text": [
      "(5, 7)\n"
     ]
    }
   ],
   "source": [
    "import numpy as np\n",
    "\n",
    "visualizacao_stories = [\n",
    "    [187, 120, 88, 70, 130, 168, 213],\n",
    "    [0, 0, 42, 0, 0, 55, 77],\n",
    "    [91, 0, 61, 0, 71, 121, 271],\n",
    "    [0, 0, 0, 0, 187, 0, 0],\n",
    "    [42, 23, 34, 0, 39, 29, 36]\n",
    "]\n",
    "pessoas = ['Raquel', 'Lucas', 'Daniel', 'Natalia', 'Anderson']\n",
    "dias_semana = ['Domingo', 'Segunda', 'Terça', 'Quarta', 'Quinta', 'Sexta', 'Sábado']\n",
    "visualizacao_stories_matriz = np.array(visualizacao_stories)\n",
    "print(visualizacao_stories_matriz.shape)\n"
   ]
  },
  {
   "cell_type": "markdown",
   "metadata": {},
   "source": [
    "Qual a média de visualizações por dia de todas essas pessoas?"
   ]
  },
  {
   "cell_type": "code",
   "execution_count": 16,
   "metadata": {},
   "outputs": [
    {
     "name": "stdout",
     "output_type": "stream",
     "text": [
      "[ 64.   28.6  45.   14.   85.4  74.6 119.4]\n",
      "(7,)\n",
      "[187 120  88  70 130 168 213]\n",
      "(7,)\n",
      "Raquel visualização média de 139.42857142857142\n",
      "Lucas visualização média de 24.857142857142858\n",
      "Daniel visualização média de 87.85714285714286\n",
      "Natalia visualização média de 26.714285714285715\n",
      "Anderson visualização média de 29.0\n",
      "A média de visualização por dia de todas as pessoas foram de [ 64.   28.6  45.   14.   85.4  74.6 119.4]\n"
     ]
    }
   ],
   "source": [
    "media_semana = visualizacao_stories_matriz.mean(axis=0)\n",
    "print(media_semana)\n",
    "print(media_semana.shape)\n",
    "primeira_semana = visualizacao_stories_matriz[0, :]\n",
    "print(primeira_semana)\n",
    "print(primeira_semana.shape)\n",
    "\n",
    "for i in range(len(pessoas)):\n",
    "    print(f'{pessoas[i]} visualização média de {visualizacao_stories_matriz[i, :].mean()} semanal')\n",
    "\n",
    "print(f'A média de visualização por dia de todas as pessoas foram de {visualizacao_stories_matriz.mean(axis=0)}')"
   ]
  },
  {
   "cell_type": "markdown",
   "metadata": {},
   "source": [
    "Qual o dia que teve mais visualizações de stories somadas?"
   ]
  },
  {
   "cell_type": "code",
   "execution_count": 20,
   "metadata": {},
   "outputs": [
    {
     "name": "stdout",
     "output_type": "stream",
     "text": [
      "[320 143 225  70 427 373 597]\n",
      "6\n",
      "O dia que mais teve visualizações foi uma Sábado no total de 597\n"
     ]
    }
   ],
   "source": [
    "dia_soma = visualizacao_stories_matriz.sum(axis=0)\n",
    "print(dia_soma)\n",
    "indice_soma = dia_soma.argmax()\n",
    "print(indice_soma)\n",
    "print(f'O dia que mais teve visualizações foi uma {dias_semana[indice_soma]} no total de {dia_soma[indice_soma]}')"
   ]
  },
  {
   "cell_type": "markdown",
   "metadata": {},
   "source": [
    "Quem foi que teve o maior número de visualizações na última semana?"
   ]
  },
  {
   "cell_type": "code",
   "execution_count": 25,
   "metadata": {},
   "outputs": [
    {
     "name": "stdout",
     "output_type": "stream",
     "text": [
      "Raquel soma de visualização 976 da ultima semana\n",
      "Lucas soma de visualização 174 da ultima semana\n",
      "Daniel soma de visualização 615 da ultima semana\n",
      "Natalia soma de visualização 187 da ultima semana\n",
      "Anderson soma de visualização 203 da ultima semana\n",
      "\n",
      "[976 174 615 187 203]\n",
      "(5,)\n",
      "Raquel foi quem teve mais visualizações no total de 976\n"
     ]
    }
   ],
   "source": [
    "for i in range(len(pessoas)):\n",
    "    print(f'{pessoas[i]} soma de visualização {visualizacao_stories_matriz[i, :].sum()} da ultima semana')\n",
    "print()\n",
    "maior_visualizacao = visualizacao_stories_matriz.sum(axis=1)\n",
    "print(maior_visualizacao)\n",
    "print(maior_visualizacao.shape)\n",
    "indice_maior_visualizacao = maior_visualizacao.argmax()\n",
    "print(f'{pessoas[indice_maior_visualizacao]} foi quem teve mais visualizações no total de {maior_visualizacao[indice_maior_visualizacao]}')\n"
   ]
  },
  {
   "cell_type": "markdown",
   "metadata": {},
   "source": [
    "Etapa 2\n",
    "Depois de sua chefe ficar empolgada com os resultados que você conseguiu, ela pediu pra você analisar as visualizações dos stories dessa semana. Porém, o sistema de coleta apresentou defeitos e não conseguiu registrar os stories sem visualização como 0. Os dados obtidos estão dispostos abaixo:\n",
    "\n",
    "visualizacao_stories_invalidos = np.array([\n",
    "    [52, 68, 97, 55, -1, 98, -1],\n",
    "    [53, -1, 38, -1, -1, 72, 49],\n",
    "    [88, -1, 64, -1, 77, 130, 43],\n",
    "    [-1, 30, -1, -1, -1, 182, -1],\n",
    "    [41, 20, 33, -1, 37, 23, 7]\n",
    "])\n",
    "Note que o sistema de coleta da sua chefe produziu erros ao obter informações de dias que não conteve stories. Você deve considerar inválidos os valores com -1.\n",
    "\n",
    "A sua chefe quer que você realize a análise considerando todos os dados das últimas duas semanas. Considerando isso, você deve responder às mesmas questões da etapa anterior.\n",
    "\n"
   ]
  },
  {
   "cell_type": "code",
   "execution_count": null,
   "metadata": {},
   "outputs": [],
   "source": [
    "import numpy.ma as ma\n",
    "\n",
    "visualizacao_stories_invalidos = np.array([\n",
    "    [52, 68, 97, 55, -1, 98, -1],\n",
    "    [53, -1, 38, -1, -1, 72, 49],\n",
    "    [88, -1, 64, -1, 77, 130, 43],\n",
    "    [-1, 30, -1, -1, -1, 182, -1],\n",
    "    [41, 20, 33, -1, 37, 23, 7]\n",
    "])\n",
    "\n",
    "\n"
   ]
  }
 ],
 "metadata": {
  "interpreter": {
   "hash": "916dbcbb3f70747c44a77c7bcd40155683ae19c65e1c03b4aa3499c5328201f1"
  },
  "kernelspec": {
   "display_name": "Python 3",
   "language": "python",
   "name": "python3"
  },
  "language_info": {
   "codemirror_mode": {
    "name": "ipython",
    "version": 3
   },
   "file_extension": ".py",
   "mimetype": "text/x-python",
   "name": "python",
   "nbconvert_exporter": "python",
   "pygments_lexer": "ipython3",
   "version": "3.9.5"
  }
 },
 "nbformat": 4,
 "nbformat_minor": 2
}
