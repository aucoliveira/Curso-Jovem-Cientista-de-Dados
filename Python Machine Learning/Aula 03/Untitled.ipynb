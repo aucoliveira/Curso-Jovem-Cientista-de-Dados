{
 "cells": [
  {
   "cell_type": "code",
   "execution_count": 1,
   "id": "considerable-gather",
   "metadata": {},
   "outputs": [
    {
     "name": "stdout",
     "output_type": "stream",
     "text": [
      "(10, 12)\n"
     ]
    }
   ],
   "source": [
    "import numpy as np\n",
    "\n",
    "vendas_anos = np.array([[149, 499, 112, 430, 115, 390, 187, 316, 361, 483, 353, 400],\n",
    "[258, 222, 461, 263, 384, 210, 452, 372, 417, 364, 468, 397],\n",
    "[259, 329, 417, 132, 318, 256, 362, 496, 232, 132, 306, 174],\n",
    "[117, 148, 480, 201, 160, 292, 146, 209, 298, 215, 358, 234],\n",
    "[169, 229, 381, 119, 225, 270, 379, 272, 167, 332, 144, 359],\n",
    "[358, 434, 228, 300, 122, 247, 142, 127, 191, 356, 450, 308],\n",
    "[105, 251, 317, 147, 214, 280, 289, 338, 498, 133, 304, 225],\n",
    "[156, 165, 299, 461, 290, 123, 451, 450, 353, 191, 167, 451],\n",
    "[149, 377, 389, 176, 103, 439, 269, 132, 200, 391, 426, 175],\n",
    "[137, 107, 229, 227, 198, 206, 432, 169, 323, 141, 155, 233]])\n",
    "print(vendas_anos.shape)"
   ]
  },
  {
   "cell_type": "code",
   "execution_count": 4,
   "id": "biblical-posting",
   "metadata": {},
   "outputs": [
    {
     "name": "stdout",
     "output_type": "stream",
     "text": [
      "[   0    1 -999    3    4    5    6 -999    8    9   10   11 -999 -999\n",
      "   14   15   16   17 -999   19]\n",
      "[0 1 -- 3 4 5 6 -- 8 9 10 11 -- -- 14 15 16 17 -- 19]\n",
      "[0 1 -- 3 4 5 6 -- 8 9 10 11 -- -- 14 15 16 17 -- 19]\n",
      "[False False  True False False False False  True False False False False\n",
      "  True  True False False False False  True False]\n"
     ]
    }
   ],
   "source": [
    "from random import sample\n",
    "\n",
    "array_invalido = np.arange(20)\n",
    "indices = sample(array_invalido.data, k=5)\n",
    "array_invalido[indices] = -999\n",
    "print(array_invalido) \n",
    "\n",
    "array_mascarado = np.ma.masked_where(array_invalido == -999, array_invalido)\n",
    "print(array_mascarado) \n",
    "array_mascarado2 = np.ma.masked_where(array_invalido < 0, array_invalido)\n",
    "print(array_mascarado2)\n",
    "print(array_invalido < 0)"
   ]
  },
  {
   "cell_type": "code",
   "execution_count": 5,
   "id": "2e9b9bf1",
   "metadata": {},
   "outputs": [
    {
     "name": "stdout",
     "output_type": "stream",
     "text": [
      "9.2\n",
      "[ 0  1  9  3  4  5  6  9  8  9 10 11  9  9 14 15 16 17  9 19]\n"
     ]
    }
   ],
   "source": [
    "media = array_mascarado.mean()\n",
    "print(media)\n",
    "array_preenchido = array_mascarado.filled(media)\n",
    "print(array_preenchido)"
   ]
  }
 ],
 "metadata": {
  "kernelspec": {
   "display_name": "Python 3",
   "language": "python",
   "name": "python3"
  },
  "language_info": {
   "codemirror_mode": {
    "name": "ipython",
    "version": 3
   },
   "file_extension": ".py",
   "mimetype": "text/x-python",
   "name": "python",
   "nbconvert_exporter": "python",
   "pygments_lexer": "ipython3",
   "version": "3.9.5"
  }
 },
 "nbformat": 4,
 "nbformat_minor": 5
}
