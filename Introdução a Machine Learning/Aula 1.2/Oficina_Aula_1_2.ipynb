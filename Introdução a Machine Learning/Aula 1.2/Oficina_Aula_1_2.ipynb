{
 "cells": [
  {
   "cell_type": "markdown",
   "id": "alternate-orange",
   "metadata": {},
   "source": [
    "Estudando um pouco sobre Machine Learning, você aprendeu que utilizar dados históricos para realizar previsões pode ser interessante, quando se quer agregar valor em pesquisas ou nos negócios de uma empresa, não é mesmo?\n",
    "\n",
    "Os modelos de regressão em Machine Learning são, amplamente, utilizados para realizar essas previsões. Então, para que você possa exercitar seus conhecimentos nessa área, baixe o arquivo através do link “Regressao.ipynb”; carregue-o no ambiente do Jupyter notebook; siga as instruções contidas no arquivo; e execute como utilizar a biblioteca scikit-learn para construir um modelo de previsão de preço de carros, usando regressão linear múltipla. Para isso, use também um conjunto de dados com várias informações sobre carros usados em outro arquivo, que você pode baixar, acessando o link “car_data.csv”.\n",
    "\n",
    "Execute os comandos do notebook e gere um modelo de previsão de preços com base nesses dados. Em seguida, exporte o arquivo do notebook e envie."
   ]
  },
  {
   "cell_type": "code",
   "execution_count": null,
   "id": "potential-mainland",
   "metadata": {},
   "outputs": [],
   "source": []
  }
 ],
 "metadata": {
  "kernelspec": {
   "display_name": "Python 3",
   "language": "python",
   "name": "python3"
  },
  "language_info": {
   "codemirror_mode": {
    "name": "ipython",
    "version": 3
   },
   "file_extension": ".py",
   "mimetype": "text/x-python",
   "name": "python",
   "nbconvert_exporter": "python",
   "pygments_lexer": "ipython3",
   "version": "3.9.5"
  }
 },
 "nbformat": 4,
 "nbformat_minor": 5
}
